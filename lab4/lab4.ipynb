{
 "cells": [
  {
   "cell_type": "code",
   "execution_count": 1,
   "metadata": {},
   "outputs": [
    {
     "name": "stdout",
     "output_type": "stream",
     "text": [
      "###################ZADANIE 1################################\n"
     ]
    },
    {
     "data": {
      "text/plain": [
       "<Figure size 640x480 with 1 Axes>"
      ]
     },
     "metadata": {},
     "output_type": "display_data"
    },
    {
     "data": {
      "text/plain": [
       "<Figure size 640x480 with 1 Axes>"
      ]
     },
     "metadata": {},
     "output_type": "display_data"
    },
    {
     "data": {
      "text/plain": [
       "<Figure size 640x480 with 1 Axes>"
      ]
     },
     "metadata": {},
     "output_type": "display_data"
    },
    {
     "data": {
      "text/plain": [
       "<Figure size 640x480 with 1 Axes>"
      ]
     },
     "metadata": {},
     "output_type": "display_data"
    },
    {
     "data": {
      "text/plain": [
       "<Figure size 640x480 with 1 Axes>"
      ]
     },
     "metadata": {},
     "output_type": "display_data"
    },
    {
     "data": {
      "text/plain": [
       "<Figure size 640x480 with 1 Axes>"
      ]
     },
     "metadata": {},
     "output_type": "display_data"
    },
    {
     "name": "stdout",
     "output_type": "stream",
     "text": [
      "###################ZADANIE 2################################\n"
     ]
    },
    {
     "data": {
      "text/plain": [
       "<Figure size 640x480 with 1 Axes>"
      ]
     },
     "metadata": {},
     "output_type": "display_data"
    },
    {
     "name": "stdout",
     "output_type": "stream",
     "text": [
      "###################ZADANIE 3################################\n"
     ]
    },
    {
     "data": {
      "text/plain": [
       "<Figure size 640x480 with 1 Axes>"
      ]
     },
     "metadata": {},
     "output_type": "display_data"
    },
    {
     "name": "stdout",
     "output_type": "stream",
     "text": [
      "###################ZADANIE 4################################\n"
     ]
    },
    {
     "data": {
      "text/plain": [
       "<Figure size 640x480 with 1 Axes>"
      ]
     },
     "metadata": {},
     "output_type": "display_data"
    },
    {
     "name": "stdout",
     "output_type": "stream",
     "text": [
      "#######################ZADANIE 5###########################\n",
      "Stepen: 1\n"
     ]
    },
    {
     "data": {
      "text/plain": [
       "<Figure size 640x480 with 1 Axes>"
      ]
     },
     "metadata": {},
     "output_type": "display_data"
    },
    {
     "name": "stdout",
     "output_type": "stream",
     "text": [
      "Stepen: 2\n"
     ]
    },
    {
     "data": {
      "text/plain": [
       "<Figure size 640x480 with 1 Axes>"
      ]
     },
     "metadata": {},
     "output_type": "display_data"
    },
    {
     "name": "stdout",
     "output_type": "stream",
     "text": [
      "Stepen: 3\n"
     ]
    },
    {
     "data": {
      "text/plain": [
       "<Figure size 640x480 with 1 Axes>"
      ]
     },
     "metadata": {},
     "output_type": "display_data"
    },
    {
     "name": "stdout",
     "output_type": "stream",
     "text": [
      "Stepen: 4\n"
     ]
    },
    {
     "data": {
      "text/plain": [
       "<Figure size 640x480 with 1 Axes>"
      ]
     },
     "metadata": {},
     "output_type": "display_data"
    },
    {
     "name": "stdout",
     "output_type": "stream",
     "text": [
      "Stepen: 5\n"
     ]
    },
    {
     "data": {
      "text/plain": [
       "<Figure size 640x480 with 1 Axes>"
      ]
     },
     "metadata": {},
     "output_type": "display_data"
    }
   ],
   "source": [
    "import matplotlib.pyplot as plt\n",
    "import numpy as np\n",
    "import scipy as sp\n",
    "from math import factorial\n",
    "\n",
    "#import os\n",
    "#currentPath = os.getcwd() \n",
    "#dataFile = open(currentPath+\"\\data_var15.txt\", \"r\")\n",
    "\n",
    "\n",
    "\n",
    "file = open('data_var15.txt',\"r\")\n",
    "\n",
    "rows = file.readlines()\n",
    "\n",
    "file.close()\n",
    "\n",
    "rows=rows[1:]\n",
    "\n",
    "\n",
    "Open=[]\n",
    "High=[]\n",
    "Low=[]\n",
    "Close=[]\n",
    "Volume=[]\n",
    "OpenInt=[]\n",
    "\n",
    "collumnList = [Open,High, Low, Close, Volume, OpenInt]\n",
    "collumnNames = [\"Open\",\"High\",\"Low\",\"Close\",\"Volume\",\"OpenInt\"]\n",
    "\n",
    "\n",
    "for i in range(len(rows)): \n",
    "    Open.append(float(rows[i].split(',')[1]))\n",
    "    High.append(float(rows[i].split(',')[2]))\n",
    "    Low.append(float(rows[i].split(',')[3]))\n",
    "    Close.append(float(rows[i].split(',')[4]))\n",
    "    Volume.append((int(rows[i].split(',')[5])))\n",
    "    OpenInt.append((float(rows[i].split(',')[6])))\n",
    "\n",
    "print(\"###################ZADANIE 1################################\")    \n",
    "def drawGraphic (arr,name):\n",
    "    plt.title(name)\n",
    "    plt.plot(arr)   \n",
    "    plt.show()    \n",
    "    \n",
    "for i in range(6): \n",
    "    #print(i)\n",
    "    drawGraphic(collumnList[i],collumnNames[i])\n",
    "    \n",
    "print(\"###################ZADANIE 2################################\")\n",
    "\n",
    "\n",
    "def getFirstNValues (arr,start,maxCount):\n",
    "    tmpARR = []\n",
    "    tmpPos = []\n",
    "    i = 0\n",
    "    while i<maxCount:\n",
    "        if i>=start:\n",
    "            tmpARR.append(arr[i])\n",
    "            tmpPos.append(float(i+1))        \n",
    "        i=i+1\n",
    "    return [tmpARR,tmpPos]    \n",
    "\n",
    "def getPolynomLagranzha (b,o,t):\n",
    "    z=0\n",
    "    for j in range(len(o)):\n",
    "        p1=1\n",
    "        p2=1\n",
    "        for i in range(len(b)):\n",
    "            if i==j:\n",
    "                p1=p1*1\n",
    "                p2=p2*1\n",
    "            else:\n",
    "                p1=p1*(t-b[i])\n",
    "                p2=p2*(b[j]-b[i])\n",
    "        z=z+o[j]*p1/p2\n",
    "    return z\n",
    "\n",
    "tenValuesFromList = getFirstNValues (Open,0,10)\n",
    "\n",
    "xArr = np.linspace(np.min(tenValuesFromList[1]),np.max(tenValuesFromList[1]),1000)\n",
    "\n",
    "yArr = [getPolynomLagranzha(tenValuesFromList[1],tenValuesFromList[0],i) for i in xArr]\n",
    "\n",
    "plt.plot(tenValuesFromList[1], tenValuesFromList[0], \"o-\", xArr, yArr)\n",
    "plt.grid(True)\n",
    "plt.show()\n",
    "\n",
    "print(\"###################ZADANIE 3################################\")\n",
    "\n",
    "h = 0.1\n",
    "  \n",
    "def getXForInterp (start,end):\n",
    "    count=(int)((float)(end-start)/h)\n",
    "    tmpxArray = np.zeros((count), dtype = float)\n",
    "\n",
    "    for i in range(0,count):\n",
    "        tmpxArray[i] = start + i * h\n",
    "    return tmpxArray\n",
    "\n",
    "xArray = getXForInterp (1,8)        \n",
    "        \n",
    "def getDeltaYArray (yArray):\n",
    "    i = 0\n",
    "    k = 1\n",
    "    deltaY = []\n",
    "    while (len(yArray)-k)>=1:\n",
    "        tmpArr = []\n",
    "        while i < (len(yArray)-k):\n",
    "            if (k)>1 :\n",
    "                tmpArr.append(deltaY[k-2][i+1] - deltaY[k-2][i])\n",
    "            else:   \n",
    "                tmpArr.append(yArray[i+1] - yArray[i])\n",
    "            i+=1\n",
    "        deltaY.append(tmpArr)   \n",
    "        i = 0\n",
    "        k+=1     \n",
    "    newDeltaY = []\n",
    "    newDeltaY.append(yArray) \n",
    "    for j in deltaY :\n",
    "        newDeltaY.append(j) \n",
    "    return newDeltaY\n",
    "\n",
    "def getCoeffA (deltaARR):\n",
    "    coeffArray = []\n",
    "    num = 0\n",
    "    for i in deltaARR:\n",
    "        coeffArray.append ((i[0])/(factorial(num)))\n",
    "        num +=1   \n",
    "    return coeffArray\n",
    "\n",
    "def getFirstNewtonsInterpForm (xArray,yArray,currentCoeffArray,x):\n",
    "    n = len(yArray)-1\n",
    "    multipler = 1\n",
    "    p = 0\n",
    "    i = 0\n",
    "    while i<=n:\n",
    "            if ((i-1)>=0):\n",
    "                multipler *= (x-xArray[i-1])\n",
    "             \n",
    "            p += currentCoeffArray[i]*multipler\n",
    "            i+=1\n",
    "    return p\n",
    "\n",
    "fistFiveVALUES = getFirstNValues(Open,0,5)\n",
    "\n",
    "deltaArr = getDeltaYArray (fistFiveVALUES[0])\n",
    "\n",
    "acoeff = getCoeffA(deltaArr)\n",
    "\n",
    "new = []\n",
    "\n",
    "i =0\n",
    "while i<len(xArray):\n",
    "    new.append(getFirstNewtonsInterpForm (fistFiveVALUES[1],fistFiveVALUES[0],acoeff,xArray[i]))\n",
    "    i+=1\n",
    "    \n",
    "plt.title(\"Newton first interp. form.\")\n",
    "plt.grid(True)\n",
    "plt.plot(fistFiveVALUES[1], fistFiveVALUES[0], \"o-\", xArray, new)\n",
    "\n",
    "plt.show ()\n",
    "\n",
    "print(\"###################ZADANIE 4################################\")\n",
    "\n",
    "tenValuesFromList = getFirstNValues (Open,0,10)\n",
    "\n",
    "nextFiveValues = getFirstNValues (Open,5,10)\n",
    "newDeltaArrFour = getDeltaYArray(nextFiveValues[0])\n",
    "\n",
    "def getCoeffAForSecondForm (deltaARR):\n",
    "    coeffArray = []\n",
    "    num = 0\n",
    "    arrLen = len(deltaARR)-1\n",
    "    i = arrLen\n",
    "    while i>=0:\n",
    "        coeffArray.append ((deltaARR[arrLen-i][i])/(factorial(num)))\n",
    "        num +=1\n",
    "        i-=1\n",
    "    return coeffArray\n",
    "\n",
    "def getSecondNewtonsInterpForm (xArray,yArray,currentCoeffArray,x):\n",
    "    arrLen = len(yArray)-1\n",
    "    n = arrLen\n",
    "    multipler = 1\n",
    "    p = 0\n",
    "    i = 0\n",
    "    while i<=n:\n",
    "            if ((i-1)>=0):\n",
    "                multipler *= (x-xArray[arrLen-i+1])\n",
    "            p += currentCoeffArray[i]*multipler\n",
    "            i+=1\n",
    "    return p\n",
    "\n",
    "\n",
    "aCoeffFour = getCoeffAForSecondForm(newDeltaArrFour)\n",
    "\n",
    "xArray = None\n",
    "xArray = []\n",
    "xArray = getXForInterp (6,13)      \n",
    "\n",
    "\n",
    "new = None\n",
    "new = []\n",
    "num=0\n",
    "\n",
    "while num<len(xArray):\n",
    "    function= getSecondNewtonsInterpForm(nextFiveValues[1],nextFiveValues[0],aCoeffFour,xArray[num])\n",
    "    new.append(float(function))\n",
    "    num=num+1\n",
    "\n",
    "\n",
    "plt.title(\"Newton second interp. form.\")\n",
    "plt.grid(True)\n",
    "plt.plot(tenValuesFromList[1], tenValuesFromList[0], \"o-\", xArray, new)\n",
    "plt.show ()\n",
    "\n",
    "print(\"#######################ZADANIE 5###########################\")\n",
    "\n",
    "xValuesArr = range(len(Open))\n",
    "\n",
    "fx = sp.linspace(xValuesArr[0], xValuesArr[-1]+1, 1000)\n",
    "\n",
    "for stepen in range (1, 6):\n",
    "    print(\"Stepen: \"+str(stepen))\n",
    "    fp, residuals, rank, sv, rcond = np.polyfit(xValuesArr, Open, stepen, full=True)\n",
    "    f=sp.poly1d(fp)\n",
    "    plt.plot (xValuesArr, Open, \"o\", markersize=1)\n",
    "    plt.plot (fx, f(fx), linewidth=4)\n",
    "    plt.show()\n"
   ]
  },
  {
   "cell_type": "code",
   "execution_count": null,
   "metadata": {},
   "outputs": [],
   "source": []
  }
 ],
 "metadata": {
  "kernelspec": {
   "display_name": "Python 3",
   "language": "python",
   "name": "python3"
  },
  "language_info": {
   "codemirror_mode": {
    "name": "ipython",
    "version": 3
   },
   "file_extension": ".py",
   "mimetype": "text/x-python",
   "name": "python",
   "nbconvert_exporter": "python",
   "pygments_lexer": "ipython3",
   "version": "3.7.1"
  }
 },
 "nbformat": 4,
 "nbformat_minor": 2
}
