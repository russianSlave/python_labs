{
 "cells": [
  {
   "cell_type": "code",
   "execution_count": 2,
   "metadata": {},
   "outputs": [
    {
     "data": {
      "image/png": "[encoded data removed]",
      "text/plain": [
       "<Figure size 432x288 with 1 Axes>"
      ]
     },
     "metadata": {
      "needs_background": "light"
     },
     "output_type": "display_data"
    },
    {
     "name": "stdout",
     "output_type": "stream",
     "text": [
      "######################################################\n",
      "n = 4 h = 0.125\n",
      "Simpson method: 0.3102485323881818\n",
      "Using scipy intergrate quad: 0.3102683017233811 err: 3.444670123846428e-15\n"
     ]
    }
   ],
   "source": [
    "import matplotlib.pyplot as plt\n",
    "import math\n",
    "import numpy as np\n",
    "from scipy import integrate\n",
    "\n",
    "\n",
    "\n",
    "tochnost = 10**(-4)\n",
    "\n",
    "def func (x):\n",
    "    return math.sin(x**2)\n",
    "\n",
    "def getXForGraphic (start,end,step):\n",
    "    count=(int)(((float)(end-start)/step)+1)\n",
    "    tmpxArray = np.zeros((count), dtype = float)\n",
    "\n",
    "    for i in range(0,count):\n",
    "        tmpxArray[i] = start + i * step\n",
    "        #print(i * step)\n",
    "    return tmpxArray\n",
    "\n",
    "xArray = getXForGraphic (0,1,tochnost)\n",
    "yArray = []\n",
    "\n",
    "for i in xArray:\n",
    "    yArray.append(func(i))\n",
    "    \n",
    "plt.plot(xArray,yArray)\n",
    "plt.title(\"Graph y = sin(x^2)\")\n",
    "plt.show()\n",
    "\n",
    "print(\"######################################################\")\n",
    "\n",
    "def getValueBySimpsonsMethod (xArr,h,n):\n",
    "    coeff = h/3\n",
    "    result = 0\n",
    "    result += func(xArr[0])\n",
    "    result += func(xArr[(2*n)])\n",
    "    ###\n",
    "    \n",
    "    i = 1\n",
    "    tmpSumm = 0\n",
    "    \n",
    "    while i<=(2*n-2):\n",
    "        if (i%2) == 0:\n",
    "            #print(\"i chetnie \"+str(i))\n",
    "            tmpSumm += func(xArr[i])\n",
    "        i+=1\n",
    "    result += 2*tmpSumm\n",
    "        \n",
    "    i = 1\n",
    "    tmpSumm = 0\n",
    "    \n",
    "    while i<=(2*n-1):\n",
    "        if (i%2) != 0:\n",
    "            #print(\"i nehchetnoe \"+str(i))\n",
    "            tmpSumm += func(xArr[i])\n",
    "        i+=1    \n",
    "    result += 4*tmpSumm\n",
    "    \n",
    "    return coeff*result\n",
    "\n",
    "def methodSimpsona (leftLim,rightLim,pogreshnost,n):\n",
    "    RyngeCoeff = 1/15\n",
    "    \n",
    "    IntegrLast = None\n",
    "    IntegrCurrent = None   \n",
    "    \n",
    "    boolForCycle = True\n",
    "\n",
    "    while boolForCycle:\n",
    "        currentH = (rightLim - leftLim)/(2*n)\n",
    "        newXarray = getXForGraphic (leftLim,rightLim,currentH)\n",
    "        \n",
    "        integrSumm = getValueBySimpsonsMethod (newXarray,currentH,n)\n",
    "        if (IntegrLast==None):\n",
    "            IntegrLast = integrSumm\n",
    "        else:\n",
    "            IntegrCurrent = integrSumm\n",
    "            if (RyngeCoeff*math.fabs(IntegrCurrent-IntegrLast))<pogreshnost:\n",
    "                print(\"n = \"+str(n)+\" h = \"+str(currentH))\n",
    "                return IntegrCurrent\n",
    "                #boolForCycle = False\n",
    "            IntegrLast = None\n",
    "            IntegrCurrent = None  \n",
    "        n+=1\n",
    "            \n",
    "print(\"Simpson method: \"+str(methodSimpsona (0,1,tochnost,1)))\n",
    "\n",
    "\n",
    "res = integrate.quad(func,0,1)\n",
    "\n",
    "print(\"Using scipy intergrate quad: \"+str(res[0])+\" err: \"+str(res[1]))\n"
   ]
  },
  {
   "cell_type": "code",
   "execution_count": null,
   "metadata": {},
   "outputs": [],
   "source": []
  }
 ],
 "metadata": {
  "kernelspec": {
   "display_name": "Python 3",
   "language": "python",
   "name": "python3"
  },
  "language_info": {
   "codemirror_mode": {
    "name": "ipython",
    "version": 3
   },
   "file_extension": ".py",
   "mimetype": "text/x-python",
   "name": "python",
   "nbconvert_exporter": "python",
   "pygments_lexer": "ipython3",
   "version": "3.7.1"
  }
 },
 "nbformat": 4,
 "nbformat_minor": 2
}
