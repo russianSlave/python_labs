{
 "cells": [
  {
   "cell_type": "code",
   "execution_count": null,
   "metadata": {},
   "outputs": [],
   "source": [
    "def getValueByThreeDivideEight (xArr,h,n):\n",
    "    coeff = h*(3/8)\n",
    "    m = 3*n\n",
    "    result = 0\n",
    "    result += func(xArr[0])\n",
    "    result += func(xArr[m])\n",
    "    ###\n",
    "    \n",
    "    tmpSummWithCoeff3 = 0\n",
    "    tmpSummWithCoeff2 = 0\n",
    "        \n",
    "    #coeff3\n",
    "    if ((m/3)>=1):\n",
    "        t = 1\n",
    "        while t<=(m/3) and ((3*t-2)<m) and ((3*t-1)<m):\n",
    "            tmpSummWithCoeff3 += func(xArr[(3*t-2)])\n",
    "            tmpSummWithCoeff3 += func(xArr[(3*t-1)])\n",
    "            t+=1\n",
    "        result+= 3*tmpSummWithCoeff3\n",
    "                           \n",
    "    #coeff2\n",
    "    if (((m/3)-1)>=1):\n",
    "        t = 1\n",
    "        while (t<=(m/3)) and ((3*t)<m):\n",
    "            tmpSummWithCoeff2 += func(xArr[(3*t)])\n",
    "            t+=1\n",
    "        result+= 2*tmpSummWithCoeff2\n",
    "        \n",
    "    return coeff*result\n",
    "\n",
    "def formulaThreeDivideEight (leftLim,rightLim,pogreshnost,n):\n",
    "    RyngeCoeff = 1/15\n",
    "    \n",
    "    IntegrLast = None\n",
    "    boolForCycle = True\n",
    "\n",
    "    while boolForCycle:\n",
    "        currentH = (rightLim - leftLim)/(3*n)\n",
    "        newXarray = getXForGraphic (leftLim,rightLim,currentH)\n",
    "        \n",
    "        integrSumm = getValueByThreeDivideEight (newXarray,currentH,n)\n",
    "        if (IntegrLast==None):\n",
    "            IntegrLast = integrSumm\n",
    "        else:\n",
    "            if (RyngeCoeff*math.fabs(integrSumm-IntegrLast))<pogreshnost:\n",
    "                print(\"formula 3/8 n = \"+str(n)+\" h = \"+str(currentH))\n",
    "                return integrSumm\n",
    "            IntegrLast = None\n",
    "        n+=1\n",
    "        \n",
    "print(\"formula 3/8: \"+str(formulaThreeDivideEight(0,1,tochnost,1))) "
   ]
  }
 ],
 "metadata": {
  "kernelspec": {
   "display_name": "Python 3",
   "language": "python",
   "name": "python3"
  },
  "language_info": {
   "codemirror_mode": {
    "name": "ipython",
    "version": 3
   },
   "file_extension": ".py",
   "mimetype": "text/x-python",
   "name": "python",
   "nbconvert_exporter": "python",
   "pygments_lexer": "ipython3",
   "version": "3.7.1"
  }
 },
 "nbformat": 4,
 "nbformat_minor": 2
}
